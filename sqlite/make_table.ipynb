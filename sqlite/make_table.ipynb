{
 "cells": [
  {
   "cell_type": "markdown",
   "metadata": {
    "deletable": true,
    "editable": true
   },
   "source": [
    "## Code to create simple sqlite dbase and adding data from organized datafiles"
   ]
  },
  {
   "cell_type": "markdown",
   "metadata": {
    "deletable": true,
    "editable": true
   },
   "source": [
    "### Steps:\n",
    "\n",
    "-"
   ]
  },
  {
   "cell_type": "code",
   "execution_count": 2,
   "metadata": {
    "collapsed": true,
    "deletable": true,
    "editable": true
   },
   "outputs": [],
   "source": [
    "# -*- coding: utf-8 -*-\n",
    "\"\"\"\n",
    "Created on Fri Dec 15 16:43:27 2017\n",
    "\n",
    "@author: vpa\n",
    "\"\"\"\n",
    "\n",
    "import sqlite3\n",
    "# Numerics\n",
    "import numpy as np\n",
    "import pandas as pd\n",
    "import math\n",
    "\n",
    "# import gvar as gv"
   ]
  },
  {
   "cell_type": "markdown",
   "metadata": {
    "deletable": true,
    "editable": true
   },
   "source": [
    "### Create dbase and tables"
   ]
  },
  {
   "cell_type": "code",
   "execution_count": 3,
   "metadata": {
    "collapsed": false,
    "deletable": true,
    "editable": true
   },
   "outputs": [],
   "source": [
    "\n",
    "dbase_fname=\"example.db\"\n",
    "\n",
    "conn=sqlite3.connect(dbase_fname)\n",
    "c=conn.cursor()\n",
    "\n",
    "# SQL codes to create tables\n",
    "\n",
    "\n",
    "create_ensemble = \"\"\"\n",
    "    CREATE TABLE IF NOT EXISTS ensemble\n",
    "    (\n",
    "    id serial PRIMARY KEY,\n",
    "    LX integer,\n",
    "    LY integer,\n",
    "    U numeric,\n",
    "    log text,\n",
    "    notes text,\n",
    "    UNIQUE(LX, LY, U)\n",
    "    );\n",
    "    \"\"\"\n",
    "create_rhomono=\"\"\"\n",
    "\n",
    "    CREATE TABLE IF NOT EXISTS rho_mono\n",
    "    (\n",
    "    id serial PRIMARY KEY,\n",
    "    ensid serial REFERENCES ensemble(id),\n",
    "    rho float[],\n",
    "    notes text,\n",
    "    UNIQUE (id)\n",
    "    );\n",
    "    \"\"\"\n",
    "create_sus1=\"\"\"\n",
    "    CREATE TABLE IF NOT EXISTS sus1\n",
    "    (\n",
    "    id serial PRIMARY KEY,\n",
    "    ensid serial REFERENCES ensemble(id),\n",
    "    sus1 numeric,\n",
    "    notes text,\n",
    "    UNIQUE (id)\n",
    "    );\n",
    "\n",
    "    \"\"\"        \n",
    "    \n",
    "create_sus2=\"\"\"\n",
    "    CREATE TABLE IF NOT EXISTS sus2\n",
    "    (\n",
    "    id serial PRIMARY KEY,\n",
    "    ensid serial REFERENCES ensemble(id),\n",
    "    sus2 numeric,\n",
    "    notes text,\n",
    "    UNIQUE (id)\n",
    "    );\n",
    "\n",
    "    \"\"\"         \n",
    "    \n",
    "queries = [\n",
    "    create_ensemble,\n",
    "    create_rhomono,\n",
    "    create_sus1,\n",
    "    create_sus2\n",
    "]\n",
    "\n",
    "\n",
    "for query in queries:\n",
    "    c.execute(query)\n",
    "\n",
    "# Add data to dbase\n",
    "\n",
    "\n",
    "##################\n",
    "# Insert Data\n",
    "##################\n",
    "\n",
    "\n",
    "# Read line from Dbase\n",
    "\n",
    "\n",
    "\n",
    "\n",
    "\n"
   ]
  },
  {
   "cell_type": "markdown",
   "metadata": {
    "deletable": true,
    "editable": true
   },
   "source": [
    "### Read data into lists"
   ]
  },
  {
   "cell_type": "code",
   "execution_count": 4,
   "metadata": {
    "collapsed": false,
    "deletable": true,
    "editable": true
   },
   "outputs": [],
   "source": [
    "\n",
    "# Read data into list rws\n",
    "num_files=3\n",
    "rws=[[] for i in range(num_files)]\n",
    "data_dir='../data/'\n",
    "for idx,fname in enumerate(['RHO','SUS_1','SUS_2']):\n",
    "    with open(data_dir+fname,'r') as f:\n",
    "        rws[idx]=[i.rstrip('\\n').split('\\t') for i in f.readlines()]\n",
    "\n",
    "# List storing entries to be written to 'ensemble' table\n",
    "ens_lst=np.array([[idx,i[1],i[0]] for idx,i in enumerate(rws[0])])\n"
   ]
  },
  {
   "cell_type": "markdown",
   "metadata": {
    "deletable": true,
    "editable": true
   },
   "source": [
    "###  Write data to Tables, row by row"
   ]
  },
  {
   "cell_type": "code",
   "execution_count": 5,
   "metadata": {
    "collapsed": false,
    "deletable": true,
    "editable": true
   },
   "outputs": [],
   "source": [
    "conn=sqlite3.connect(dbase_fname)\n",
    "c=conn.cursor()\n",
    "\n",
    "n_vals=ens_lst.shape[0]\n",
    "\n",
    "for i in range(n_vals):\n",
    "    r1,r2,r3=rws[0][i],rws[1][i],rws[2][i]\n",
    "\n",
    "    # Write to ensemble table\n",
    "    a1=ens_lst[i]\n",
    "    row_tup=tuple([a1[0],a1[1],a1[1],a1[2],'',''])\n",
    "    insert_line=\"\"\"INSERT INTO ensemble VALUES {}\"\"\".format(row_tup)\n",
    "#     print insert_line\n",
    "    c.execute(insert_line)    \n",
    "    \n",
    "    # Write into RHO,SUS_1,SUS_2 tables    \n",
    "    l,u=r1[1],r1[0]\n",
    "    L,U=int(float(l)),float(u)\n",
    "    val1=[r1[2],r1[3]] # rho values\n",
    "    val2=[r2[2],r2[3]] # sus1 values\n",
    "    val3=[r3[2],r3[3]] # sus2 values\n",
    "\n",
    "\n",
    "    for var,tname in zip([val1,val2,val3],['rho_mono','sus1','sus2']):\n",
    "        \n",
    "        # Find the  correct ensemble id from array ens_lst using u and l\n",
    "        idx=ens_lst[(ens_lst[:,2]==u)&(ens_lst[:,1]==l)][0,0]\n",
    "\n",
    "        row_tup=(idx,idx,\",\".join(var),'')\n",
    "        insert_line=\"\"\"INSERT INTO {0} VALUES {1}\"\"\".format(tname,row_tup)\n",
    "#         print insert_line\n",
    "        c.execute(insert_line)\n",
    "\n",
    "\n",
    "conn.commit()\n",
    "conn.close()"
   ]
  },
  {
   "cell_type": "code",
   "execution_count": 6,
   "metadata": {
    "collapsed": false,
    "deletable": true,
    "editable": true,
    "scrolled": true
   },
   "outputs": [],
   "source": [
    "### Drop tables\n",
    "\n"
   ]
  },
  {
   "cell_type": "markdown",
   "metadata": {
    "deletable": true,
    "editable": true
   },
   "source": [
    "### Read data from Database"
   ]
  },
  {
   "cell_type": "code",
   "execution_count": 7,
   "metadata": {
    "collapsed": false,
    "deletable": true,
    "editable": true,
    "scrolled": true
   },
   "outputs": [
    {
     "data": {
      "text/html": [
       "<div>\n",
       "<table border=\"1\" class=\"dataframe\">\n",
       "  <thead>\n",
       "    <tr style=\"text-align: right;\">\n",
       "      <th></th>\n",
       "      <th>id</th>\n",
       "      <th>LX</th>\n",
       "      <th>U</th>\n",
       "      <th>log</th>\n",
       "      <th>rho</th>\n",
       "      <th>sus1</th>\n",
       "      <th>sus2</th>\n",
       "    </tr>\n",
       "  </thead>\n",
       "  <tbody>\n",
       "    <tr>\n",
       "      <th>0</th>\n",
       "      <td>0</td>\n",
       "      <td>16</td>\n",
       "      <td>0.43</td>\n",
       "      <td></td>\n",
       "      <td>0.0972468562312,0.000207017625181</td>\n",
       "      <td>2.08029779122,0.0026512173018</td>\n",
       "      <td>1.60081828214,0.00305809397142</td>\n",
       "    </tr>\n",
       "    <tr>\n",
       "      <th>1</th>\n",
       "      <td>1</td>\n",
       "      <td>16</td>\n",
       "      <td>0.45</td>\n",
       "      <td></td>\n",
       "      <td>0.115162506256,0.000251014930975</td>\n",
       "      <td>2.18742711327,0.0025532798542</td>\n",
       "      <td>1.72478814471,0.00291429662038</td>\n",
       "    </tr>\n",
       "    <tr>\n",
       "      <th>2</th>\n",
       "      <td>2</td>\n",
       "      <td>16</td>\n",
       "      <td>0.46</td>\n",
       "      <td></td>\n",
       "      <td>0.125995213964,0.000272384231147</td>\n",
       "      <td>2.23393131109,0.00254061995053</td>\n",
       "      <td>1.78067280409,0.00284546943731</td>\n",
       "    </tr>\n",
       "    <tr>\n",
       "      <th>3</th>\n",
       "      <td>3</td>\n",
       "      <td>16</td>\n",
       "      <td>0.47</td>\n",
       "      <td></td>\n",
       "      <td>0.136936936937,0.000290944107501</td>\n",
       "      <td>2.26600614356,0.00236993107695</td>\n",
       "      <td>1.82325616301,0.00259678095915</td>\n",
       "    </tr>\n",
       "    <tr>\n",
       "      <th>4</th>\n",
       "      <td>4</td>\n",
       "      <td>16</td>\n",
       "      <td>0.475</td>\n",
       "      <td></td>\n",
       "      <td>0.142689720971,0.0002925741102</td>\n",
       "      <td>2.27563236949,0.00231697794155</td>\n",
       "      <td>1.83811018774,0.00250221325235</td>\n",
       "    </tr>\n",
       "  </tbody>\n",
       "</table>\n",
       "</div>"
      ],
      "text/plain": [
       "  id  LX      U log                                rho  \\\n",
       "0  0  16   0.43      0.0972468562312,0.000207017625181   \n",
       "1  1  16   0.45       0.115162506256,0.000251014930975   \n",
       "2  2  16   0.46       0.125995213964,0.000272384231147   \n",
       "3  3  16   0.47       0.136936936937,0.000290944107501   \n",
       "4  4  16  0.475         0.142689720971,0.0002925741102   \n",
       "\n",
       "                             sus1                            sus2  \n",
       "0   2.08029779122,0.0026512173018  1.60081828214,0.00305809397142  \n",
       "1   2.18742711327,0.0025532798542  1.72478814471,0.00291429662038  \n",
       "2  2.23393131109,0.00254061995053  1.78067280409,0.00284546943731  \n",
       "3  2.26600614356,0.00236993107695  1.82325616301,0.00259678095915  \n",
       "4  2.27563236949,0.00231697794155  1.83811018774,0.00250221325235  "
      ]
     },
     "execution_count": 7,
     "metadata": {},
     "output_type": "execute_result"
    }
   ],
   "source": [
    "# Read line from dbase\n",
    "\n",
    "\n",
    "read_query=\"\"\" SELECT * FROM ensemble as es \n",
    "                JOIN rho_mono as rh ON (es.id=rh.ensid)\n",
    "                JOIN sus1 ON (es.id=sus1.ensid)\n",
    "                JOIN sus2 ON (es.id=sus2.ensid)\n",
    "            \"\"\"\n",
    "\n",
    "# read_query=\"\"\" SELECT * FROM sus1           \"\"\"    \n",
    "conn=sqlite3.connect(dbase_fname)\n",
    "c=conn.cursor()\n",
    "conn.execute(read_query)\n",
    "\n",
    "df=pd.read_sql_query(read_query,conn)\n",
    "\n",
    "conn.commit()\n",
    "conn.close()\n",
    "\n",
    "df=df.T.drop_duplicates().T\n",
    "df.head()\n"
   ]
  },
  {
   "cell_type": "code",
   "execution_count": 8,
   "metadata": {
    "collapsed": false,
    "deletable": true,
    "editable": true,
    "scrolled": false
   },
   "outputs": [],
   "source": [
    "# ! rm example.db\n",
    "# ! rm dbase_fname\n",
    "\n",
    "    "
   ]
  },
  {
   "cell_type": "markdown",
   "metadata": {
    "deletable": true,
    "editable": true
   },
   "source": [
    "### Problems:\n",
    "- Need to write to dbase as list instead of string"
   ]
  },
  {
   "cell_type": "code",
   "execution_count": null,
   "metadata": {
    "collapsed": false,
    "deletable": true,
    "editable": true
   },
   "outputs": [],
   "source": []
  },
  {
   "cell_type": "code",
   "execution_count": null,
   "metadata": {
    "collapsed": true,
    "deletable": true,
    "editable": true
   },
   "outputs": [],
   "source": []
  }
 ],
 "metadata": {
  "anaconda-cloud": {},
  "kernelspec": {
   "display_name": "Python [conda root]",
   "language": "python",
   "name": "conda-root-py"
  },
  "language_info": {
   "codemirror_mode": {
    "name": "ipython",
    "version": 2
   },
   "file_extension": ".py",
   "mimetype": "text/x-python",
   "name": "python",
   "nbconvert_exporter": "python",
   "pygments_lexer": "ipython2",
   "version": "2.7.12"
  },
  "toc": {
   "nav_menu": {},
   "number_sections": true,
   "sideBar": true,
   "skip_h1_title": false,
   "toc_cell": false,
   "toc_position": {},
   "toc_section_display": "block",
   "toc_window_display": false
  }
 },
 "nbformat": 4,
 "nbformat_minor": 2
}
